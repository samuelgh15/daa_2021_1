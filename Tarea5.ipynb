{
  "nbformat": 4,
  "nbformat_minor": 0,
  "metadata": {
    "colab": {
      "name": "Tarea5.ipynb",
      "provenance": [],
      "authorship_tag": "ABX9TyNwjMkVVJWqfEerZfzWk5hS",
      "include_colab_link": true
    },
    "kernelspec": {
      "name": "python3",
      "display_name": "Python 3"
    }
  },
  "cells": [
    {
      "cell_type": "markdown",
      "metadata": {
        "id": "view-in-github",
        "colab_type": "text"
      },
      "source": [
        "<a href=\"https://colab.research.google.com/github/samuelgh15/daa_2021_1/blob/master/Tarea5.ipynb\" target=\"_parent\"><img src=\"https://colab.research.google.com/assets/colab-badge.svg\" alt=\"Open In Colab\"/></a>"
      ]
    },
    {
      "cell_type": "code",
      "metadata": {
        "id": "kRP3YkY1aq8c",
        "outputId": "ce591916-2179-4f43-b108-9f7b6d1364c4",
        "colab": {
          "base_uri": "https://localhost:8080/",
          "height": 357
        }
      },
      "source": [
        "from time import time\n",
        "\n",
        "def ejemplo1( n ):\n",
        "  start_time = time()\n",
        "  c = n + 1\n",
        "  d = c * n\n",
        "  e = n * n\n",
        "  total = c + e - d\n",
        "  elapsed_time = time() - start_time\n",
        "  print(\"Tiempo transcurrido: %0.10f segundos.\" % elapsed_time)\n",
        "  print(f\"total={ total }\")\n",
        "\n",
        "for entrada in range (100, 1100, 100):\n",
        "  ejemplo1( entrada )"
      ],
      "execution_count": 8,
      "outputs": [
        {
          "output_type": "stream",
          "text": [
            "Tiempo transcurrido: 0.0000007153 segundos.\n",
            "total=1\n",
            "Tiempo transcurrido: 0.0000007153 segundos.\n",
            "total=1\n",
            "Tiempo transcurrido: 0.0000009537 segundos.\n",
            "total=1\n",
            "Tiempo transcurrido: 0.0000007153 segundos.\n",
            "total=1\n",
            "Tiempo transcurrido: 0.0000007153 segundos.\n",
            "total=1\n",
            "Tiempo transcurrido: 0.0000007153 segundos.\n",
            "total=1\n",
            "Tiempo transcurrido: 0.0000009537 segundos.\n",
            "total=1\n",
            "Tiempo transcurrido: 0.0000007153 segundos.\n",
            "total=1\n",
            "Tiempo transcurrido: 0.0000009537 segundos.\n",
            "total=1\n",
            "Tiempo transcurrido: 0.0000007153 segundos.\n",
            "total=1\n"
          ],
          "name": "stdout"
        }
      ]
    },
    {
      "cell_type": "code",
      "metadata": {
        "id": "jWeswpBUif8N",
        "outputId": "bcd726a4-b598-4d73-c0ef-0b071ea2cacc",
        "colab": {
          "base_uri": "https://localhost:8080/",
          "height": 357
        }
      },
      "source": [
        "from time import time\n",
        "\n",
        "def ejemplo2( n ):\n",
        "  start_time = time()\n",
        "  contador = 0\n",
        "  for i in range( n ) :\n",
        "    for j in range( n ) :\n",
        "      contador += 1\n",
        "  elapsed_time = time() - start_time\n",
        "  print(\"Tiempo transcurrido: %0.10f segundos.\" % elapsed_time)\n",
        "  print(contador)\n",
        "\n",
        "for entrada in range (100, 1100, 100):\n",
        "  ejemplo2( entrada )"
      ],
      "execution_count": 7,
      "outputs": [
        {
          "output_type": "stream",
          "text": [
            "Tiempo transcurrido: 0.0004498959 segundos.\n",
            "10000\n",
            "Tiempo transcurrido: 0.0040528774 segundos.\n",
            "40000\n",
            "Tiempo transcurrido: 0.0044865608 segundos.\n",
            "90000\n",
            "Tiempo transcurrido: 0.0097618103 segundos.\n",
            "160000\n",
            "Tiempo transcurrido: 0.0137279034 segundos.\n",
            "250000\n",
            "Tiempo transcurrido: 0.0207884312 segundos.\n",
            "360000\n",
            "Tiempo transcurrido: 0.0324523449 segundos.\n",
            "490000\n",
            "Tiempo transcurrido: 0.0334362984 segundos.\n",
            "640000\n",
            "Tiempo transcurrido: 0.0413150787 segundos.\n",
            "810000\n",
            "Tiempo transcurrido: 0.0541322231 segundos.\n",
            "1000000\n"
          ],
          "name": "stdout"
        }
      ]
    },
    {
      "cell_type": "code",
      "metadata": {
        "id": "KTz8TcuRigBO",
        "outputId": "0cc77d50-b11f-40ae-8882-f36fb178ec44",
        "colab": {
          "base_uri": "https://localhost:8080/",
          "height": 357
        }
      },
      "source": [
        "from time import time\n",
        "\n",
        "def ejemplo3( n ):\n",
        "  start_time = time()\n",
        "  x = n * 2\n",
        "  y = 0\n",
        "  for m in range( 100 ):\n",
        "    y = x - n\n",
        "  elapsed_time = time() - start_time\n",
        "  print(\"Tiempo transcurrido: %0.10f segundos.\" % elapsed_time)\n",
        "  print(y)\n",
        "\n",
        "for entrada in range (100, 1100, 100):\n",
        "  ejemplo3( entrada )"
      ],
      "execution_count": 9,
      "outputs": [
        {
          "output_type": "stream",
          "text": [
            "Tiempo transcurrido: 0.0000078678 segundos.\n",
            "100\n",
            "Tiempo transcurrido: 0.0000078678 segundos.\n",
            "200\n",
            "Tiempo transcurrido: 0.0000145435 segundos.\n",
            "300\n",
            "Tiempo transcurrido: 0.0000088215 segundos.\n",
            "400\n",
            "Tiempo transcurrido: 0.0000088215 segundos.\n",
            "500\n",
            "Tiempo transcurrido: 0.0000088215 segundos.\n",
            "600\n",
            "Tiempo transcurrido: 0.0000092983 segundos.\n",
            "700\n",
            "Tiempo transcurrido: 0.0000095367 segundos.\n",
            "800\n",
            "Tiempo transcurrido: 0.0035762787 segundos.\n",
            "900\n",
            "Tiempo transcurrido: 0.0000100136 segundos.\n",
            "1000\n"
          ],
          "name": "stdout"
        }
      ]
    },
    {
      "cell_type": "code",
      "metadata": {
        "id": "7vm92CqjigFz",
        "outputId": "fc730166-74d9-49ba-8946-0c7f7b895b53",
        "colab": {
          "base_uri": "https://localhost:8080/",
          "height": 357
        }
      },
      "source": [
        "from time import time\n",
        "\n",
        "def ejemplo4( n ):\n",
        "  start_time = time()\n",
        "  x = 3 * 3.1416 + n\n",
        "  y = x + 3 * 3 - n\n",
        "  z = x + y\n",
        "  elapsed_time = time() - start_time\n",
        "  print(\"Tiempo transcurrido: %0.10f segundos.\" % elapsed_time)\n",
        "  print(z)\n",
        "\n",
        "for entrada in range (100, 1100, 100):\n",
        "  ejemplo4( entrada )"
      ],
      "execution_count": 10,
      "outputs": [
        {
          "output_type": "stream",
          "text": [
            "Tiempo transcurrido: 0.0000011921 segundos.\n",
            "127.84960000000001\n",
            "Tiempo transcurrido: 0.0000007153 segundos.\n",
            "227.8496\n",
            "Tiempo transcurrido: 0.0000004768 segundos.\n",
            "327.8496\n",
            "Tiempo transcurrido: 0.0000004768 segundos.\n",
            "427.8496\n",
            "Tiempo transcurrido: 0.0000009537 segundos.\n",
            "527.8496\n",
            "Tiempo transcurrido: 0.0000011921 segundos.\n",
            "627.8496\n",
            "Tiempo transcurrido: 0.0000014305 segundos.\n",
            "727.8496\n",
            "Tiempo transcurrido: 0.0000009537 segundos.\n",
            "827.8496\n",
            "Tiempo transcurrido: 0.0000007153 segundos.\n",
            "927.8496\n",
            "Tiempo transcurrido: 0.0000007153 segundos.\n",
            "1027.8496\n"
          ],
          "name": "stdout"
        }
      ]
    },
    {
      "cell_type": "code",
      "metadata": {
        "id": "xp0cZ1bNigJX",
        "outputId": "438ee8e3-72c1-4ae7-9733-35d7c5b4a9ac",
        "colab": {
          "base_uri": "https://localhost:8080/",
          "height": 357
        }
      },
      "source": [
        "from time import time\n",
        "\n",
        "def ejemplo5( x ):\n",
        "  start_time = time()\n",
        "  n = 10\n",
        "  for j in range( 0 , x , 1 ):\n",
        "    n = j + n\n",
        "  elapsed_time = time() - start_time\n",
        "  print(\"Tiempo transcurrido: %0.10f segundos.\" % elapsed_time)\n",
        "  print(n)\n",
        "\n",
        "for entrada in range (100, 1100, 100):\n",
        "  ejemplo5( entrada )"
      ],
      "execution_count": 11,
      "outputs": [
        {
          "output_type": "stream",
          "text": [
            "Tiempo transcurrido: 0.0000104904 segundos.\n",
            "4960\n",
            "Tiempo transcurrido: 0.0000150204 segundos.\n",
            "19910\n",
            "Tiempo transcurrido: 0.0000236034 segundos.\n",
            "44860\n",
            "Tiempo transcurrido: 0.0000369549 segundos.\n",
            "79810\n",
            "Tiempo transcurrido: 0.0000677109 segundos.\n",
            "124760\n",
            "Tiempo transcurrido: 0.0000491142 segundos.\n",
            "179710\n",
            "Tiempo transcurrido: 0.0000560284 segundos.\n",
            "244660\n",
            "Tiempo transcurrido: 0.0000715256 segundos.\n",
            "319610\n",
            "Tiempo transcurrido: 0.0000808239 segundos.\n",
            "404560\n",
            "Tiempo transcurrido: 0.0000915527 segundos.\n",
            "499510\n"
          ],
          "name": "stdout"
        }
      ]
    },
    {
      "cell_type": "code",
      "metadata": {
        "id": "YoD8tgjLie7v",
        "outputId": "e3ed4114-4437-4f97-a581-60b03b07773e",
        "colab": {
          "base_uri": "https://localhost:8080/",
          "height": 357
        }
      },
      "source": [
        "from time import time\n",
        "\n",
        "def ejemplo6( n ):\n",
        "  start_time = time()\n",
        "  data=[[[1 for x in range(n)] for x in range(n)] for x in range(n)]\n",
        "  suma = 0\n",
        "  for d in range(n):\n",
        "    for r in range(n):\n",
        "      for c in range(n):\n",
        "        suma += data[d][r][c]\n",
        "  elapsed_time = time() - start_time\n",
        "  print(\"Tiempo transcurrido: %0.10f segundos.\" % elapsed_time)\n",
        "  print(suma)\n",
        "\n",
        "for entrada in range (100, 1100, 100):\n",
        "  ejemplo6( entrada )"
      ],
      "execution_count": 12,
      "outputs": [
        {
          "output_type": "stream",
          "text": [
            "Tiempo transcurrido: 0.1887683868 segundos.\n",
            "1000000\n",
            "Tiempo transcurrido: 1.0341882706 segundos.\n",
            "8000000\n",
            "Tiempo transcurrido: 3.6981699467 segundos.\n",
            "27000000\n",
            "Tiempo transcurrido: 9.3487074375 segundos.\n",
            "64000000\n",
            "Tiempo transcurrido: 17.9906499386 segundos.\n",
            "125000000\n",
            "Tiempo transcurrido: 32.2982437611 segundos.\n",
            "216000000\n",
            "Tiempo transcurrido: 52.5429074764 segundos.\n",
            "343000000\n",
            "Tiempo transcurrido: 78.2959449291 segundos.\n",
            "512000000\n",
            "Tiempo transcurrido: 111.7107236385 segundos.\n",
            "729000000\n",
            "Tiempo transcurrido: 155.0775113106 segundos.\n",
            "1000000000\n"
          ],
          "name": "stdout"
        }
      ]
    }
  ]
}