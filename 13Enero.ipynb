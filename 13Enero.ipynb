{
  "nbformat": 4,
  "nbformat_minor": 0,
  "metadata": {
    "colab": {
      "name": "13Enero.ipynb",
      "provenance": [],
      "authorship_tag": "ABX9TyNF7mRoEpzbSTHAgERGJSUI",
      "include_colab_link": true
    },
    "kernelspec": {
      "name": "python3",
      "display_name": "Python 3"
    }
  },
  "cells": [
    {
      "cell_type": "markdown",
      "metadata": {
        "id": "view-in-github",
        "colab_type": "text"
      },
      "source": [
        "<a href=\"https://colab.research.google.com/github/samuelgh15/daa_2021_1/blob/master/13Enero.ipynb\" target=\"_parent\"><img src=\"https://colab.research.google.com/assets/colab-badge.svg\" alt=\"Open In Colab\"/></a>"
      ]
    },
    {
      "cell_type": "code",
      "metadata": {
        "id": "NX1B4RBuZWTY"
      },
      "source": [
        "class NodoArbol:\r\n",
        "    def __init__( self , dato ,  hijo_izq=None , hijo_der=None):\r\n",
        "        self.dato = dato\r\n",
        "        self.left = hijo_izq\r\n",
        "        self.right = hijo_der"
      ],
      "execution_count": null,
      "outputs": []
    },
    {
      "cell_type": "code",
      "metadata": {
        "id": "T6jy0NgMRs7T"
      },
      "source": [
        "class BinarySearchTree:\r\n",
        "  def _init_ (self):\r\n",
        "    self.__root=None \r\n",
        "\r\n",
        "  def insert (self, value):\r\n",
        "      if self.__root == None:\r\n",
        "          self.__root = NodoArbol(value, None, None)\r\n",
        "      else:\r\n",
        "          #preguntar si value es menor que root, de ser el caso\r\n",
        "          #insertar a la izq, PERO... Puede ser el caso que el \r\n",
        "          #sub arbol\r\n",
        "          self.__insert_nodo__(self.root, value)\r\n",
        "\r\n",
        "  def __insert_nodo__(self, nodo, value):\r\n",
        "      if nodo.data == value:\r\n",
        "          pass\r\n",
        "      elif value < nodo.data: #true va a la izquierda\r\n",
        "        if nodo.left == None: #si hay espacio en la izq, ahi va\r\n",
        "            nodo.left = NodoArbol(value, None, None) #insertamos el nodo\r\n",
        "        else:\r\n",
        "            self.__insert_nodo__(nodo.left, value) #buscar en subarbol izq\r\n",
        "      else: \r\n",
        "        if nodo.left == None:\r\n",
        "            nodo.left = NodoArbol(value, None, None)\r\n",
        "        else:\r\n",
        "            self.__insert_nodo__(nodo.right, value) #buscar en subarbol der"
      ],
      "execution_count": null,
      "outputs": []
    }
  ]
}