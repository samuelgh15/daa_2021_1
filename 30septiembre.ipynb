{
  "nbformat": 4,
  "nbformat_minor": 0,
  "metadata": {
    "colab": {
      "name": "30septiembre.ipynb",
      "provenance": [],
      "authorship_tag": "ABX9TyN76tijdKvaOPcTMVaNJkSa",
      "include_colab_link": true
    },
    "kernelspec": {
      "name": "python3",
      "display_name": "Python 3"
    }
  },
  "cells": [
    {
      "cell_type": "markdown",
      "metadata": {
        "id": "view-in-github",
        "colab_type": "text"
      },
      "source": [
        "<a href=\"https://colab.research.google.com/github/samuelgh15/daa_2021_1/blob/master/30septiembre.ipynb\" target=\"_parent\"><img src=\"https://colab.research.google.com/assets/colab-badge.svg\" alt=\"Open In Colab\"/></a>"
      ]
    },
    {
      "cell_type": "markdown",
      "metadata": {
        "id": "B1rDuRaNQLia"
      },
      "source": [
        "#Palindromo\n",
        "Es una palabra que se lee de igual forma de un sentido y de\n",
        "sentido inverso\n",
        "1. Sugus\n",
        "2. Oso\n",
        "3. Reconocer\n",
        "4. 10101\n",
        "5. 10:01\n",
        "etc.\n",
        "\n",
        "### Planteamiento del problema\n",
        "Se desea encontrar todos los palindromos que existen en la \n",
        "franja horaria de un dia completo, tomando como horario\n",
        "inicial las 00:00 y como horario final las 23:59 horas.\n",
        "\n",
        "El algoritmo debe mostrar en pantalla todos los palindromos\n",
        "existentes en ese rango, al final debe mostrar el conteo de\n",
        "total de palindromos encontrados."
      ]
    },
    {
      "cell_type": "code",
      "metadata": {
        "id": "r--N_m1_R1P4",
        "outputId": "6931b006-6b27-4a88-954f-5bb223bf675f",
        "colab": {
          "base_uri": "https://localhost:8080/",
          "height": 340
        }
      },
      "source": [
        "# Solucion\n",
        "h=0\n",
        "auxh=0\n",
        "m=0\n",
        "auxm=0\n",
        "conta=0\n",
        "for i in range (24):\n",
        "  for j in range (60):\n",
        "    h=i\n",
        "    m=j\n",
        "    auxh=int(str(j)[::-1])\n",
        "    auxm=int(str(i)[::-1])\n",
        "    if h==int(auxh) and m==int(auxm):\n",
        "      print(f\"{h}:{m}\")\n",
        "      conta=conta+1\n",
        "print(f\"Existen {conta} palindromos\")\n"
      ],
      "execution_count": 26,
      "outputs": [
        {
          "output_type": "stream",
          "text": [
            "0:0\n",
            "1:1\n",
            "2:2\n",
            "3:3\n",
            "4:4\n",
            "5:5\n",
            "6:6\n",
            "7:7\n",
            "8:8\n",
            "9:9\n",
            "11:11\n",
            "12:21\n",
            "13:31\n",
            "14:41\n",
            "15:51\n",
            "21:12\n",
            "22:22\n",
            "23:32\n",
            "Existen 18 palindromos\n"
          ],
          "name": "stdout"
        }
      ]
    }
  ]
}