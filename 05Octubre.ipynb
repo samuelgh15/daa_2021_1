{
  "nbformat": 4,
  "nbformat_minor": 0,
  "metadata": {
    "colab": {
      "name": "05Octubre.ipynb",
      "provenance": [],
      "authorship_tag": "ABX9TyNMtxxRzAl/ENVshzdQfCHl",
      "include_colab_link": true
    },
    "kernelspec": {
      "name": "python3",
      "display_name": "Python 3"
    }
  },
  "cells": [
    {
      "cell_type": "markdown",
      "metadata": {
        "id": "view-in-github",
        "colab_type": "text"
      },
      "source": [
        "<a href=\"https://colab.research.google.com/github/samuelgh15/daa_2021_1/blob/master/05Octubre.ipynb\" target=\"_parent\"><img src=\"https://colab.research.google.com/assets/colab-badge.svg\" alt=\"Open In Colab\"/></a>"
      ]
    },
    {
      "cell_type": "markdown",
      "metadata": {
        "id": "M8TYyEEZ_dkh"
      },
      "source": [
        "#Estructura de datos Pila (Stack)\n",
        "- Last In First Out (LIFO)\n",
        "- De tipo lineal\n",
        "- Se pueden obtener e ingresar datos desde el tope\n",
        "- Push para agregar\n",
        "- Pop para sacar\n",
        "\n",
        "##Operaciones de las pilas\n",
        "\n",
        "- is_empty (regresa true o false)\n",
        "- get_top (regresa el elemento del tope sin sacarlo)\n",
        "- pop (saca el elemento del tope y lo regresa)\n",
        "- push (mete un elemento en el tope)\n",
        "- get_lenght (regresa el numero de elementos de la pila)"
      ]
    },
    {
      "cell_type": "code",
      "metadata": {
        "id": "P4pYKTZDCwtK"
      },
      "source": [
        "class stack:\n",
        "  def __init__ ( self ):\n",
        "    self.__datos = []\n",
        "\n",
        "  def is_empty ( self ):\n",
        "    return len ( self.__datos ) == 0\n",
        "\n",
        "  def get_top ( self ):\n",
        "    return self.__datos[-1]\n",
        "\n",
        "  def pop ( self ):\n",
        "    return self.__datos.pop()\n",
        "\n",
        "  def push ( self, valor ):\n",
        "    self.__datos.append(valor)\n",
        "\n",
        "  def get_lenght ( self ):\n",
        "    return len(self.__datos)\n",
        "\n",
        "  def to_string ( self ):\n",
        "    print(\"|----------|\")\n",
        "    for ele in self.__datos[-1::-1]:\n",
        "      print(f\" {ele} \")\n",
        "    print(\"|----------|\\n\")"
      ],
      "execution_count": 21,
      "outputs": []
    },
    {
      "cell_type": "code",
      "metadata": {
        "id": "agtDDWePNtaa",
        "outputId": "f76f791b-a45d-4749-a6ad-0417d9aaf6ad",
        "colab": {
          "base_uri": "https://localhost:8080/",
          "height": 646
        }
      },
      "source": [
        "pila1 = stack()\n",
        "pila1.push(10)\n",
        "pila1.push(20)\n",
        "pila1.push(1)\n",
        "pila1.push(393)\n",
        "pila1.push(103)\n",
        "pila1.to_string()\n",
        "\n",
        "sacado=pila1.pop()\n",
        "print(sacado)\n",
        "pila1.to_string()\n",
        "\n",
        "pila1.push(444)\n",
        "pila1.push(233)\n",
        "pila1.to_string()\n",
        "\n",
        "print(f\"El elemento del tope en la pila es: {pila1.get_top()}\")\n",
        "pila1.to_string()\n",
        "print(f\"La pila tiene: {pila1.get_lenght()} elementos\")\n",
        "print(f\"¿La pila es vacia?: {pila1.is_empty()}\")"
      ],
      "execution_count": 24,
      "outputs": [
        {
          "output_type": "stream",
          "text": [
            "|----------|\n",
            " 103 \n",
            " 393 \n",
            " 1 \n",
            " 20 \n",
            " 10 \n",
            "|----------|\n",
            "\n",
            "103\n",
            "|----------|\n",
            " 393 \n",
            " 1 \n",
            " 20 \n",
            " 10 \n",
            "|----------|\n",
            "\n",
            "|----------|\n",
            " 233 \n",
            " 444 \n",
            " 393 \n",
            " 1 \n",
            " 20 \n",
            " 10 \n",
            "|----------|\n",
            "\n",
            "El elemento del tope en la pila es: 233\n",
            "|----------|\n",
            " 233 \n",
            " 444 \n",
            " 393 \n",
            " 1 \n",
            " 20 \n",
            " 10 \n",
            "|----------|\n",
            "\n",
            "La pila tiene: 6 elementos\n",
            "¿La pila es vacia?: False\n"
          ],
          "name": "stdout"
        }
      ]
    },
    {
      "cell_type": "markdown",
      "metadata": {
        "id": "jr1QkCU4JQJy"
      },
      "source": [
        "#Ejemplo de aplicacion de pilas \n",
        "\n",
        "x = 4 + 5 + 6 + 3\n",
        "\n",
        "x = 4 + ( 5 + 6 ) + 3\n",
        "\n",
        "x = 4 + 5 + 6 ) + 3\n",
        "\n",
        "x = ( 4 + 5 + 6 ) + 3 )\n",
        "\n",
        "if(a==b) {System.out.println(b)\n",
        "\n",
        "if(a==b) {System.out.println(b}\n",
        "\n",
        "#Reglas\n",
        "### '(' --> push('@')\n",
        "### ')' --> pop()\n",
        "Si al final del recorrido la pila esta vacia, entonces la \n",
        "cadena es correcta.\n",
        "\n",
        "Si en un pop desencadena en querer sacar un elemento de la pila\n",
        "vacia significa que la cadena no esta valanceada."
      ]
    },
    {
      "cell_type": "markdown",
      "metadata": {
        "id": "TqjWWsDVNJmL"
      },
      "source": [
        "#Tarea\n",
        "Hacer un programa que valide el balanceo de '()' , '{}' y '[]'\n",
        "en programas del lenguaje C y Java, tomando como base el codigo de la clase"
      ]
    }
  ]
}