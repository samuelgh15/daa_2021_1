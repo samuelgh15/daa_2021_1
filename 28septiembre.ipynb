{
  "nbformat": 4,
  "nbformat_minor": 0,
  "metadata": {
    "colab": {
      "name": "28septiembre.ipynb",
      "provenance": [],
      "authorship_tag": "ABX9TyOjfTbn/t44hVsQLhuE7Qdv",
      "include_colab_link": true
    },
    "kernelspec": {
      "name": "python3",
      "display_name": "Python 3"
    }
  },
  "cells": [
    {
      "cell_type": "markdown",
      "metadata": {
        "id": "view-in-github",
        "colab_type": "text"
      },
      "source": [
        "<a href=\"https://colab.research.google.com/github/samuelgh15/daa_2021_1/blob/master/28septiembre.ipynb\" target=\"_parent\"><img src=\"https://colab.research.google.com/assets/colab-badge.svg\" alt=\"Open In Colab\"/></a>"
      ]
    },
    {
      "cell_type": "markdown",
      "metadata": {
        "id": "x2aO6TGaHfvE"
      },
      "source": [
        "**Codigo de ejemplo**\n"
      ]
    },
    {
      "cell_type": "code",
      "metadata": {
        "id": "qsbai3DvHiLi"
      },
      "source": [
        "frutas = []\n",
        "frutas.append('Manzana')\n",
        "frutas.append('Piña')\n",
        "frutas.append('Kiwi')\n",
        "print(frutas)"
      ],
      "execution_count": null,
      "outputs": []
    },
    {
      "cell_type": "code",
      "metadata": {
        "id": "ubskA3coHx5u"
      },
      "source": [
        "archivo = open('prueba_daa.txt', 'wt')\n",
        "archivo.write('Hola mundo Jupyter')\n",
        "archivo.close()"
      ],
      "execution_count": 5,
      "outputs": []
    }
  ]
}