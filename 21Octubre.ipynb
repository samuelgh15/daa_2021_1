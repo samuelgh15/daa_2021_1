{
  "nbformat": 4,
  "nbformat_minor": 0,
  "metadata": {
    "colab": {
      "name": "21Octubre.ipynb",
      "provenance": [],
      "authorship_tag": "ABX9TyMSnnEuueK2BkWGYkx86RHb",
      "include_colab_link": true
    },
    "kernelspec": {
      "name": "python3",
      "display_name": "Python 3"
    }
  },
  "cells": [
    {
      "cell_type": "markdown",
      "metadata": {
        "id": "view-in-github",
        "colab_type": "text"
      },
      "source": [
        "<a href=\"https://colab.research.google.com/github/samuelgh15/daa_2021_1/blob/master/21Octubre.ipynb\" target=\"_parent\"><img src=\"https://colab.research.google.com/assets/colab-badge.svg\" alt=\"Open In Colab\"/></a>"
      ]
    },
    {
      "cell_type": "code",
      "metadata": {
        "id": "kRP3YkY1aq8c",
        "outputId": "022342a4-3d11-40b7-902f-479e5af92bc4",
        "colab": {
          "base_uri": "https://localhost:8080/",
          "height": 34
        }
      },
      "source": [
        "def ejemplo1( n ):\n",
        "    c = n + 1\n",
        "    d = c * n\n",
        "    e = n * n\n",
        "    total = c + e - d\n",
        "    print(f\"total={ total }\")\n",
        "ejemplo1( 99999 )"
      ],
      "execution_count": 1,
      "outputs": [
        {
          "output_type": "stream",
          "text": [
            "total=1\n"
          ],
          "name": "stdout"
        }
      ]
    },
    {
      "cell_type": "code",
      "metadata": {
        "id": "jWeswpBUif8N",
        "outputId": "fc73c8ce-7124-473c-c935-59dcc040d819",
        "colab": {
          "base_uri": "https://localhost:8080/",
          "height": 34
        }
      },
      "source": [
        "def ejemplo2( n ):\n",
        "    contador = 0\n",
        "    for i in range( n ) :\n",
        "        for j in range( n ) :\n",
        "            contador += 1\n",
        "    return contador\n",
        "\n",
        "ejemplo2( 20 )"
      ],
      "execution_count": 2,
      "outputs": [
        {
          "output_type": "execute_result",
          "data": {
            "text/plain": [
              "400"
            ]
          },
          "metadata": {
            "tags": []
          },
          "execution_count": 2
        }
      ]
    },
    {
      "cell_type": "code",
      "metadata": {
        "id": "KTz8TcuRigBO",
        "outputId": "30bccf91-fd23-480c-c2e0-2130958ce54b",
        "colab": {
          "base_uri": "https://localhost:8080/",
          "height": 34
        }
      },
      "source": [
        "def ejemplo3( n ): # n=4\n",
        "    x = n * 2 # x = 8\n",
        "    y = 0   # y = 0\n",
        "    for m in range( 100 ): #3\n",
        "        y = x - n   # y = 4\n",
        "    return y\n",
        "\n",
        "ejemplo3(1000000000)"
      ],
      "execution_count": 3,
      "outputs": [
        {
          "output_type": "execute_result",
          "data": {
            "text/plain": [
              "1000000000"
            ]
          },
          "metadata": {
            "tags": []
          },
          "execution_count": 3
        }
      ]
    },
    {
      "cell_type": "code",
      "metadata": {
        "id": "7vm92CqjigFz",
        "outputId": "3f92a183-16b4-4e26-ca5f-7cfdd9e3c3af",
        "colab": {
          "base_uri": "https://localhost:8080/",
          "height": 34
        }
      },
      "source": [
        "def ejemplo4( n ):\n",
        "    x = 3 * 3.1416 + n\n",
        "    y = x + 3 * 3 - n\n",
        "    z = x + y\n",
        "    return z\n",
        "\n",
        "ejemplo4(9)"
      ],
      "execution_count": 4,
      "outputs": [
        {
          "output_type": "execute_result",
          "data": {
            "text/plain": [
              "36.849599999999995"
            ]
          },
          "metadata": {
            "tags": []
          },
          "execution_count": 4
        }
      ]
    },
    {
      "cell_type": "code",
      "metadata": {
        "id": "xp0cZ1bNigJX",
        "outputId": "f90fe604-4347-4335-a789-43ecf124dee2",
        "colab": {
          "base_uri": "https://localhost:8080/",
          "height": 34
        }
      },
      "source": [
        "def ejemplo5( x ):\n",
        "    n = 10\n",
        "    for j in range( 0 , x , 1 ):\n",
        "        n = j + n\n",
        "    return n\n",
        "\n",
        "ejemplo5(10)"
      ],
      "execution_count": 5,
      "outputs": [
        {
          "output_type": "execute_result",
          "data": {
            "text/plain": [
              "55"
            ]
          },
          "metadata": {
            "tags": []
          },
          "execution_count": 5
        }
      ]
    },
    {
      "cell_type": "code",
      "metadata": {
        "id": "DF6BhBi8ietI",
        "outputId": "bcb79fcc-53af-411e-f931-b350e3b7078d",
        "colab": {
          "base_uri": "https://localhost:8080/",
          "height": 34
        }
      },
      "source": [
        "def ejemplo6( n ):\n",
        "    data=[[[1 for x in range(n)] for x in range(n)]\n",
        "          for x in range(n)]\n",
        "    suma = 0\n",
        "    for d in range(n):\n",
        "        for r in range(n):\n",
        "            for c in range(n):\n",
        "                suma += data[d][r][c]\n",
        "    return suma\n",
        "print(ejemplo6( 1000 ))"
      ],
      "execution_count": 13,
      "outputs": [
        {
          "output_type": "stream",
          "text": [
            "1000000000\n"
          ],
          "name": "stdout"
        }
      ]
    },
    {
      "cell_type": "code",
      "metadata": {
        "id": "YoD8tgjLie7v",
        "outputId": "85682905-1d5b-4a06-acdc-ac7a543a696b",
        "colab": {
          "base_uri": "https://localhost:8080/",
          "height": 102
        }
      },
      "source": [
        "from time import time\n",
        "\n",
        "def ejemplo6( n ):\n",
        "    start_time = time()\n",
        "    data=[[[1 for x in range(n)] for x in range(n)] \n",
        "          for x in range(n)]\n",
        "    suma = 0\n",
        "    for d in range(n):\n",
        "        for r in range(n):\n",
        "            for c in range(n):\n",
        "                suma += data[d][r][c]\n",
        "    elapsed_time = time() - start_time\n",
        "    print(\"Tiempo transcurrido: %0.10f segundos.\" % elapsed_time)\n",
        "    return suma\n",
        "for entrada in range (100, 600, 100):\n",
        "  ejemplo6( entrada )"
      ],
      "execution_count": 17,
      "outputs": [
        {
          "output_type": "stream",
          "text": [
            "Tiempo transcurrido: 0.1358799934 segundos.\n",
            "Tiempo transcurrido: 1.0412325859 segundos.\n",
            "Tiempo transcurrido: 3.7914741039 segundos.\n",
            "Tiempo transcurrido: 21.1890766621 segundos.\n",
            "Tiempo transcurrido: 18.0635352135 segundos.\n"
          ],
          "name": "stdout"
        }
      ]
    }
  ]
}