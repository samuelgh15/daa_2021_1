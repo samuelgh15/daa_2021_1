{
  "nbformat": 4,
  "nbformat_minor": 0,
  "metadata": {
    "colab": {
      "name": "07Octubre.ipynb",
      "provenance": [],
      "authorship_tag": "ABX9TyMBMgsOIldalJ2991m/Dx5E",
      "include_colab_link": true
    },
    "kernelspec": {
      "name": "python3",
      "display_name": "Python 3"
    }
  },
  "cells": [
    {
      "cell_type": "markdown",
      "metadata": {
        "id": "view-in-github",
        "colab_type": "text"
      },
      "source": [
        "<a href=\"https://colab.research.google.com/github/samuelgh15/daa_2021_1/blob/master/07Octubre.ipynb\" target=\"_parent\"><img src=\"https://colab.research.google.com/assets/colab-badge.svg\" alt=\"Open In Colab\"/></a>"
      ]
    },
    {
      "cell_type": "markdown",
      "metadata": {
        "id": "ykhFPCtSSrnX"
      },
      "source": [
        "#Busqueda lineal\n",
        "\n",
        "Dado un conjunto de datos no ordenados, la busqueda lineal consise en recorrer\n",
        "elconjunto de datos desde el inicio al final, moviendose de uno en uno hasta \n",
        "encontrar el elemento o llegar al final del conjunto.\n",
        "\n",
        "datos = [ 4,18,47,2,34,14,12,48,21,31,19,1,3,5]\n",
        "\n",
        "#Busqueda binaria \n",
        "\n",
        "Funciona sobre un conjunto de datos ordenados.\n",
        "Consiste en dividir el conjunto en mitades y buscar en esa mitad, si \n",
        "el elemento buscado no esta en la mitad, preguntas si el elemento esta \n",
        "a la izquiera o la derecha.\n",
        "Haces la lista a la mita correspondiente y repites el proceso.\n",
        "\n",
        "L = [1, 2, 3, 4, 5, 12, 14, 18, 19, 21, 31, 34, 47, 48]\n",
        "DER = longitud(L)-1\n",
        "IZQ = 0 \n",
        "\n",
        "MID apuntara a la mitad del segmento de busqueda\n",
        "\n",
        "1. Hacer DER = longitud(L)-1\n",
        "2. Hacer IZQ = 0\n",
        "3. Si IZQ > DER significa que hay un error en los datos\n",
        "4. Calcular MID = int ((IZQ + DER)/2)\n",
        "5. Mientras L[MID] != buscado hacer\n",
        "6.    -preguntar L[MID] > buscado\n",
        "\n",
        "        -hacer DER = MID\n",
        "\n",
        "      -de lo contrario\n",
        "\n",
        "        -hacer IZQ = MID\n",
        "\n",
        "     -preguntar si (DER - IZQ)%2\n",
        "\n",
        "        MID = IZQ\n",
        "\n"
      ]
    },
    {
      "cell_type": "code",
      "metadata": {
        "id": "qVD-ZugsTnAg",
        "outputId": "b721a8ff-86ea-4b85-8cd1-beabec8535df",
        "colab": {
          "base_uri": "https://localhost:8080/"
        }
      },
      "source": [
        "'''\n",
        "Busqueda lineal\n",
        "regresa la posicion del elemento 'buscado' si se encuentra dentro de la lista.\n",
        "regresa -1 si elemento buscado no existe dentro de la lista.\n",
        "'''\n",
        "\n",
        "def busqueda_lineal( L, buscado):\n",
        "  indice = -1\n",
        "  conta = 0\n",
        "  for indx in range(len(L)):\n",
        "    conta += 1\n",
        "    if L[indx]==buscado:\n",
        "      indice=indx\n",
        "      break\n",
        "  print(f\"Numero de comparaciones realizadas={conta}\")\n",
        "  return indice\n",
        "\n",
        "'''\n",
        "Busqueda binaria\n",
        "'''\n",
        "\n",
        "def busqueda_binaria(L, buscado):\n",
        "  IZQ = 0\n",
        "  DER = len(L)-1\n",
        "  MID = int((DER+IZQ)/2)\n",
        "  if len(L)%2 == 0:\n",
        "    MID = (DER // 2)+1\n",
        "  else:\n",
        "    MID = DER // 3 \n",
        "\n",
        "  while (L[MID] != buscado):\n",
        "    if L[MID] > buscado:\n",
        "      DER = MID\n",
        "    else:\n",
        "      IZQ = MID\n",
        "      if (DER - IZQ) % 2 == 0:\n",
        "        MID = (IZQ+((DER-IZQ)//2))+1\n",
        "      else:\n",
        "        MID = IZQ + ((DER-IZQ)//2)-1\n",
        "    return MID\n",
        "\n",
        "\n",
        "\n",
        "def main():\n",
        "  datos = [4,18,47,2,34,14,12,48,21,31,19,1,3,5]\n",
        "  dato = int(input(\"¿Que valor quieres buscar?: \"))\n",
        "  resultado= busqueda_lineal(datos,dato)\n",
        "  print(\"Resultado: \", resultado)\n",
        "\n",
        "  print(\"Busqueda lineal en una lista ordenada\")\n",
        "  datos.sort()\n",
        "  print(datos)\n",
        "  resultado = busqueda_lineal(datos, dato)\n",
        "  print(\"Resultado\", resultado)\n",
        "\n",
        "  print(\"Busqueda binaria\")\n",
        "  posicion = busqueda_binaria(datos, dato)\n",
        "  print(f\"El elemento {dato} esta en la posicion {posicion} de la lista\")\n",
        "\n",
        "main()"
      ],
      "execution_count": 13,
      "outputs": [
        {
          "output_type": "stream",
          "text": [
            "¿Que valor quieres buscar?: 12\n",
            "Numero de comparaciones realizadas=7\n",
            "Resultado:  6\n",
            "Busqueda lineal en una lista ordenada\n",
            "[1, 2, 3, 4, 5, 12, 14, 18, 19, 21, 31, 34, 47, 48]\n",
            "Numero de comparaciones realizadas=6\n",
            "Resultado 5\n",
            "Busqueda binaria\n",
            "El elemento 12 esta en la posicion 7 de la lista\n"
          ],
          "name": "stdout"
        }
      ]
    }
  ]
}