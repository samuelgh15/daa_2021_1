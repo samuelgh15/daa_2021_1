{
  "nbformat": 4,
  "nbformat_minor": 0,
  "metadata": {
    "colab": {
      "name": "23Otubre.ipynb",
      "provenance": [],
      "authorship_tag": "ABX9TyNYVWYUJJoCB9WKhH6HLSlE",
      "include_colab_link": true
    },
    "kernelspec": {
      "name": "python3",
      "display_name": "Python 3"
    }
  },
  "cells": [
    {
      "cell_type": "markdown",
      "metadata": {
        "id": "view-in-github",
        "colab_type": "text"
      },
      "source": [
        "<a href=\"https://colab.research.google.com/github/samuelgh15/daa_2021_1/blob/master/23Otubre.ipynb\" target=\"_parent\"><img src=\"https://colab.research.google.com/assets/colab-badge.svg\" alt=\"Open In Colab\"/></a>"
      ]
    },
    {
      "cell_type": "code",
      "metadata": {
        "id": "w8Rziz6V0Sc8"
      },
      "source": [
        "def ejemplo7( n ):\n",
        "  count = 0\n",
        "  for i in range( n ) :\n",
        "    for j in range( 25 ) :\n",
        "      for k in range( n ):\n",
        "        count += 1\n",
        "  return count\n",
        "\n",
        "  ejemplo7(3) "
      ],
      "execution_count": 28,
      "outputs": []
    },
    {
      "cell_type": "code",
      "metadata": {
        "id": "fUvHGQZ22PzC"
      },
      "source": [
        "def ejemplo7_2( n ):\n",
        "  count = 0\n",
        "  for i in range( n ) :\n",
        "    for j in range( 25 ) :\n",
        "      for k in range( n ):\n",
        "        count += 1\n",
        "        for k in range( n ):\n",
        "          count += 1\n",
        "  return count\n",
        "\n",
        "  ejemplo7_2(3)"
      ],
      "execution_count": 22,
      "outputs": []
    },
    {
      "cell_type": "code",
      "metadata": {
        "id": "oG4hw_Kx4fjC"
      },
      "source": [
        "def ejemplo8( numeros ):\n",
        "  total = 0\n",
        "  for index in range(len(numeros)):\n",
        "    total = numeros[index]\n",
        "  return total\n",
        "  \n",
        "ejemplo8(numeros)"
      ],
      "execution_count": null,
      "outputs": []
    },
    {
      "cell_type": "code",
      "metadata": {
        "id": "vgCmviLR4g0Q",
        "outputId": "f4243114-4332-407f-c83e-11c1a273e8b7",
        "colab": {
          "base_uri": "https://localhost:8080/",
          "height": 34
        }
      },
      "source": [
        "def ejemplo9(  n ):\n",
        "  contador = 0\n",
        "  basura = 0\n",
        "  for i in range( n ) :\n",
        "    contador += 1\n",
        "  for j in range( n ) :\n",
        "    contador += 1\n",
        "  basura = basura + contador\n",
        "  return contador\n",
        "\n",
        "print(ejemplo9( 5 ))"
      ],
      "execution_count": 25,
      "outputs": [
        {
          "output_type": "stream",
          "text": [
            "10\n"
          ],
          "name": "stdout"
        }
      ]
    },
    {
      "cell_type": "code",
      "metadata": {
        "id": "-uvweBXL4hVQ",
        "outputId": "7433941d-40a8-4303-964f-55edf3a04812",
        "colab": {
          "base_uri": "https://localhost:8080/",
          "height": 34
        }
      },
      "source": [
        "def ejemplo10( n ):\n",
        "  count = 0\n",
        "  for i in range( n ) :\n",
        "    for j in range( i+1 ) :\n",
        "      count += 1\n",
        "  return count\n",
        "\n",
        "print(ejemplo10( 5 ))"
      ],
      "execution_count": 26,
      "outputs": [
        {
          "output_type": "stream",
          "text": [
            "15\n"
          ],
          "name": "stdout"
        }
      ]
    }
  ]
}