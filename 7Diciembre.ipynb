{
  "nbformat": 4,
  "nbformat_minor": 0,
  "metadata": {
    "colab": {
      "name": "7Diciembre.ipynb",
      "provenance": [],
      "authorship_tag": "ABX9TyPS3afp+w56W4OQakywOzn0",
      "include_colab_link": true
    },
    "kernelspec": {
      "name": "python3",
      "display_name": "Python 3"
    }
  },
  "cells": [
    {
      "cell_type": "markdown",
      "metadata": {
        "id": "view-in-github",
        "colab_type": "text"
      },
      "source": [
        "<a href=\"https://colab.research.google.com/github/samuelgh15/daa_2021_1/blob/master/7Diciembre.ipynb\" target=\"_parent\"><img src=\"https://colab.research.google.com/assets/colab-badge.svg\" alt=\"Open In Colab\"/></a>"
      ]
    },
    {
      "cell_type": "code",
      "metadata": {
        "id": "QbzjvwjQsp3E",
        "colab": {
          "base_uri": "https://localhost:8080/"
        },
        "outputId": "89f5795d-ca38-4e42-ea6d-fcb5a8696a25"
      },
      "source": [
        "def fibonaci(n):\n",
        "  print(\"Llamada\",n)\n",
        "  if n== 1 or n ==0:\n",
        "    return n\n",
        "  else:\n",
        "    return (fibonaci(n-1) + fibonaci (n-2))\n",
        "\n",
        "print(fibonaci(6))"
      ],
      "execution_count": 1,
      "outputs": [
        {
          "output_type": "stream",
          "text": [
            "Llamada 6\n",
            "Llamada 5\n",
            "Llamada 4\n",
            "Llamada 3\n",
            "Llamada 2\n",
            "Llamada 1\n",
            "Llamada 0\n",
            "Llamada 1\n",
            "Llamada 2\n",
            "Llamada 1\n",
            "Llamada 0\n",
            "Llamada 3\n",
            "Llamada 2\n",
            "Llamada 1\n",
            "Llamada 0\n",
            "Llamada 1\n",
            "Llamada 4\n",
            "Llamada 3\n",
            "Llamada 2\n",
            "Llamada 1\n",
            "Llamada 0\n",
            "Llamada 1\n",
            "Llamada 2\n",
            "Llamada 1\n",
            "Llamada 0\n",
            "8\n"
          ],
          "name": "stdout"
        }
      ]
    }
  ]
}