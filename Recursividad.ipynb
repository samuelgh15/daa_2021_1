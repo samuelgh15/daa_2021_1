{
  "nbformat": 4,
  "nbformat_minor": 0,
  "metadata": {
    "colab": {
      "name": "Recursividad.ipynb",
      "provenance": [],
      "authorship_tag": "ABX9TyM9DjNOwJa6y2YKh1gdmEuw",
      "include_colab_link": true
    },
    "kernelspec": {
      "name": "python3",
      "display_name": "Python 3"
    }
  },
  "cells": [
    {
      "cell_type": "markdown",
      "metadata": {
        "id": "view-in-github",
        "colab_type": "text"
      },
      "source": [
        "<a href=\"https://colab.research.google.com/github/samuelgh15/daa_2021_1/blob/master/Recursividad.ipynb\" target=\"_parent\"><img src=\"https://colab.research.google.com/assets/colab-badge.svg\" alt=\"Open In Colab\"/></a>"
      ]
    },
    {
      "cell_type": "code",
      "metadata": {
        "colab": {
          "base_uri": "https://localhost:8080/"
        },
        "id": "t7xNlPP6NN9a",
        "outputId": "96908a94-6153-4110-eff0-cd7cd7b7d940"
      },
      "source": [
        "def suma(lista):\n",
        "  if len(lista)==1:\n",
        "    return lista[0]\n",
        "  else:\n",
        "    x=lista[len(lista)-1]\n",
        "    lista.remove(x)\n",
        "    x+=int(suma(lista))\n",
        "    return x\n",
        "\n",
        "lista=[13,7,20,16,2]\n",
        "suma(lista)"
      ],
      "execution_count": 10,
      "outputs": [
        {
          "output_type": "execute_result",
          "data": {
            "text/plain": [
              "58"
            ]
          },
          "metadata": {
            "tags": []
          },
          "execution_count": 10
        }
      ]
    },
    {
      "cell_type": "code",
      "metadata": {
        "colab": {
          "base_uri": "https://localhost:8080/"
        },
        "id": "fuX-qhCCOUpf",
        "outputId": "c4695b39-561e-44aa-f5a8-f40318423fa0"
      },
      "source": [
        "def conta(d):\n",
        "  if d==0:\n",
        "    return 0\n",
        "  else:\n",
        "    print(d)\n",
        "    d=conta(d-1)\n",
        "    return d\n",
        "\n",
        "d=30\n",
        "conta(y)"
      ],
      "execution_count": 11,
      "outputs": [
        {
          "output_type": "stream",
          "text": [
            "30\n",
            "29\n",
            "28\n",
            "27\n",
            "26\n",
            "25\n",
            "24\n",
            "23\n",
            "22\n",
            "21\n",
            "20\n",
            "19\n",
            "18\n",
            "17\n",
            "16\n",
            "15\n",
            "14\n",
            "13\n",
            "12\n",
            "11\n",
            "10\n",
            "9\n",
            "8\n",
            "7\n",
            "6\n",
            "5\n",
            "4\n",
            "3\n",
            "2\n",
            "1\n"
          ],
          "name": "stdout"
        },
        {
          "output_type": "execute_result",
          "data": {
            "text/plain": [
              "0"
            ]
          },
          "metadata": {
            "tags": []
          },
          "execution_count": 11
        }
      ]
    }
  ]
}