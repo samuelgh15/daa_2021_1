{
  "nbformat": 4,
  "nbformat_minor": 0,
  "metadata": {
    "colab": {
      "name": "19Octubre.ipynb",
      "provenance": [],
      "authorship_tag": "ABX9TyNH2gRcxqBaqXlof3a4jfb7",
      "include_colab_link": true
    },
    "kernelspec": {
      "name": "python3",
      "display_name": "Python 3"
    }
  },
  "cells": [
    {
      "cell_type": "markdown",
      "metadata": {
        "id": "view-in-github",
        "colab_type": "text"
      },
      "source": [
        "<a href=\"https://colab.research.google.com/github/samuelgh15/daa_2021_1/blob/master/19Octubre.ipynb\" target=\"_parent\"><img src=\"https://colab.research.google.com/assets/colab-badge.svg\" alt=\"Open In Colab\"/></a>"
      ]
    },
    {
      "cell_type": "code",
      "metadata": {
        "id": "XD4_lFvEM5NK",
        "outputId": "68e66e51-a64f-4654-fdeb-6f427ef4a494",
        "colab": {
          "base_uri": "https://localhost:8080/",
          "height": 272
        }
      },
      "source": [
        "a2d = [[3, 2, 1], [6, 4, 8], [7, 4, 2]]\n",
        "n = 3\n",
        "print(a2d)\n",
        "\n",
        "total = 0\n",
        "print(\"Nivel 1\")\n",
        "for ren in range (n):\n",
        "  sumarenglon = 0\n",
        "  print(\"Nivel 2\")\n",
        "  for col in range (n):\n",
        "    sumarenglon += a2d[ren] [col]\n",
        "    total += a2d[ren] [col]\n",
        "    print(\"Nivel 3\")\n",
        "print(total)"
      ],
      "execution_count": 3,
      "outputs": [
        {
          "output_type": "stream",
          "text": [
            "[[3, 2, 1], [6, 4, 8], [7, 4, 2]]\n",
            "Nivel 1\n",
            "Nivel 2\n",
            "Nivel 3\n",
            "Nivel 3\n",
            "Nivel 3\n",
            "Nivel 2\n",
            "Nivel 3\n",
            "Nivel 3\n",
            "Nivel 3\n",
            "Nivel 2\n",
            "Nivel 3\n",
            "Nivel 3\n",
            "Nivel 3\n",
            "37\n"
          ],
          "name": "stdout"
        }
      ]
    }
  ]
}